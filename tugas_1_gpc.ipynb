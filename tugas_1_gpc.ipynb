{
 "cells": [
  {
   "cell_type": "markdown",
   "metadata": {},
   "source": [
    "# Tugas 1 Grafika Pengolahan Citra"
   ]
  },
  {
   "cell_type": "markdown",
   "metadata": {},
   "source": [
    "### Anggota Kelompok:\n",
    "|Nama| NIM |\n",
    "|------|---|\n",
    "|Maulana Adil |10119221|\n",
    "|Faishal Obara|10119|\n",
    "|Mya Hauliyah |10119|\n",
    "|Tyo Haryo    |10119|"
   ]
  },
  {
   "cell_type": "code",
   "execution_count": 1,
   "metadata": {},
   "outputs": [
    {
     "name": "stdout",
     "output_type": "stream",
     "text": [
      "Defaulting to user installation because normal site-packages is not writeable\n",
      "Collecting numpy\n",
      "  Downloading numpy-1.23.5-cp39-cp39-macosx_10_9_x86_64.whl (18.1 MB)\n",
      "\u001b[K     |████████████████████████████████| 18.1 MB 6.0 MB/s eta 0:00:01\n",
      "\u001b[?25hInstalling collected packages: numpy\n",
      "\u001b[33m  WARNING: The scripts f2py, f2py3 and f2py3.9 are installed in '/Users/macbook/Library/Python/3.9/bin' which is not on PATH.\n",
      "  Consider adding this directory to PATH or, if you prefer to suppress this warning, use --no-warn-script-location.\u001b[0m\n",
      "Successfully installed numpy-1.23.5\n",
      "\u001b[33mWARNING: You are using pip version 21.2.4; however, version 22.3.1 is available.\n",
      "You should consider upgrading via the '/Library/Developer/CommandLineTools/usr/bin/python3 -m pip install --upgrade pip' command.\u001b[0m\n",
      "Note: you may need to restart the kernel to use updated packages.\n",
      "Defaulting to user installation because normal site-packages is not writeable\n",
      "Collecting glfw\n",
      "  Downloading glfw-2.5.5-py2.py27.py3.py30.py31.py32.py33.py34.py35.py36.py37.py38-none-macosx_10_6_intel.whl (96 kB)\n",
      "\u001b[K     |████████████████████████████████| 96 kB 1.6 MB/s eta 0:00:01\n",
      "\u001b[?25hInstalling collected packages: glfw\n",
      "Successfully installed glfw-2.5.5\n",
      "\u001b[33mWARNING: You are using pip version 21.2.4; however, version 22.3.1 is available.\n",
      "You should consider upgrading via the '/Library/Developer/CommandLineTools/usr/bin/python3 -m pip install --upgrade pip' command.\u001b[0m\n",
      "Note: you may need to restart the kernel to use updated packages.\n",
      "Defaulting to user installation because normal site-packages is not writeable\n",
      "Collecting pyopengl\n",
      "  Downloading PyOpenGL-3.1.6-py3-none-any.whl (2.4 MB)\n",
      "\u001b[K     |████████████████████████████████| 2.4 MB 2.0 MB/s eta 0:00:01\n",
      "\u001b[?25hInstalling collected packages: pyopengl\n",
      "Successfully installed pyopengl-3.1.6\n",
      "\u001b[33mWARNING: You are using pip version 21.2.4; however, version 22.3.1 is available.\n",
      "You should consider upgrading via the '/Library/Developer/CommandLineTools/usr/bin/python3 -m pip install --upgrade pip' command.\u001b[0m\n",
      "Note: you may need to restart the kernel to use updated packages.\n",
      "Defaulting to user installation because normal site-packages is not writeable\n",
      "Collecting pygame\n",
      "  Downloading pygame-2.1.2-cp39-cp39-macosx_10_9_x86_64.whl (8.9 MB)\n",
      "\u001b[K     |████████████████████████████████| 8.9 MB 803 kB/s eta 0:00:01███████████████▌      | 7.1 MB 803 kB/s eta 0:00:03\n",
      "\u001b[?25hInstalling collected packages: pygame\n",
      "Successfully installed pygame-2.1.2\n",
      "\u001b[33mWARNING: You are using pip version 21.2.4; however, version 22.3.1 is available.\n",
      "You should consider upgrading via the '/Library/Developer/CommandLineTools/usr/bin/python3 -m pip install --upgrade pip' command.\u001b[0m\n",
      "Note: you may need to restart the kernel to use updated packages.\n"
     ]
    }
   ],
   "source": [
    "%pip install numpy\n",
    "%pip install glfw\n",
    "%pip install pyopengl\n",
    "%pip install pygame"
   ]
  },
  {
   "cell_type": "code",
   "execution_count": 1,
   "metadata": {},
   "outputs": [],
   "source": [
    "from __future__ import division\n",
    "from __future__ import print_function\n",
    "\n",
    "import glfw\n",
    "from OpenGL.GL import *\n",
    "from OpenGL.GLU import *\n",
    "import numpy as np\n",
    "from math import floor"
   ]
  },
  {
   "cell_type": "code",
   "execution_count": 4,
   "metadata": {},
   "outputs": [],
   "source": [
    "## call back key function\n",
    "def key_callback(window, key, scancode, action, mode):\n",
    "    if key == glfw.KEY_ESCAPE and action == glfw.PRESS:\n",
    "        print(\"closed window for pressing Escape key\")\n",
    "        glfw.set_window_should_close(window, True)\n",
    "\n",
    "## reshape function\n",
    "def reshape_callback(window, width, height):\n",
    "    glViewport(0,0,width, height)\n",
    "\n",
    "## setPixel function\n",
    "def setpixel(x,y,color):\n",
    "    glColor3fv(color)\n",
    "    glBegin(GL_POINTS)\n",
    "    glVertex2f(x,y)\n",
    "    glEnd()\n",
    "\n",
    "## reflect points function\n",
    "def reflectpoints(x,y,colour):\n",
    "    setpixel((x), (-y), colour)\n",
    "    setpixel((-x), (y), colour)\n",
    "    setpixel((-x), (-y), colour)\n",
    "    setpixel((-y), (-x), colour)\n",
    "    setpixel((y), (-x), colour)\n",
    "    setpixel((y), (x), colour)\n",
    "    setpixel((-y), (x), colour)"
   ]
  },
  {
   "cell_type": "markdown",
   "metadata": {},
   "source": [
    "## Bressenham Algorithm"
   ]
  },
  {
   "cell_type": "markdown",
   "metadata": {},
   "source": [
    "### Draw Line"
   ]
  },
  {
   "cell_type": "code",
   "execution_count": 5,
   "metadata": {
    "tags": []
   },
   "outputs": [
    {
     "name": "stdout",
     "output_type": "stream",
     "text": [
      "width: 1280, height:960\n"
     ]
    }
   ],
   "source": [
    "def BresenhamLine(x1,y1,x2,y2, colour):\n",
    "    x=x1\n",
    "    y=y1\n",
    "    dx=(x2-x1)\n",
    "    dy=(y2-y1)\n",
    "    dt= 2*(dy-dx)\n",
    "    ds=2*dy\n",
    "\n",
    "    d=2*dy  - dx  #d=d0 initially\n",
    "    setpixel((x), (y), [0,0,0])\n",
    "\n",
    "    while x<x2:\n",
    "        x=x+1\n",
    "        if d <0:\n",
    "            d=d+ds\n",
    "        else:\n",
    "            y=y+1\n",
    "            d=d+dt\n",
    "\n",
    "        setpixel((x), (y), colour)\n",
    "\n",
    "\n",
    "def main():\n",
    "    if not glfw.init():\n",
    "        raise Exception(\"glfw nt initialized\")\n",
    "\n",
    "    window=glfw.create_window(640,480, \"DDA Line Drawing\",None,None)\n",
    "\n",
    "    if not window:\n",
    "        glfw.terminate()\n",
    "        raise Exception(\"glfw window not created\")\n",
    "\n",
    "    w,h = glfw.get_framebuffer_size(window)\n",
    "    print(\"width: {}, height:{}\".format(w,h))\n",
    "\n",
    "    glfw.set_window_pos(window, 400,200)\n",
    "\n",
    "    glfw.make_context_current(window)\n",
    "    glfw.set_key_callback(window, key_callback)\n",
    "\n",
    "    glfw.set_window_size_callback(window, reshape_callback)\n",
    "\n",
    "    gluOrtho2D(-200.0, 200.0,-200.0,200.0)\n",
    "    setpixel(0,0,[1,0,1])\n",
    "\n",
    "    while not glfw.window_should_close(window):\n",
    "\n",
    "        glClear(GL_COLOR_BUFFER_BIT)\n",
    "        #glClearColor(0.0,0.76,0.56,1.0)\n",
    "        glClearColor(1,1,1,1.0)\n",
    "\n",
    "        BresenhamLine(-150,150,150,-150,[0,0,1])#L5  blue\n",
    "        \n",
    "\n",
    "        glfw.swap_buffers(window)\n",
    "        glfw.poll_events()\n",
    "\n",
    "    glfw.terminate()\n",
    "\n",
    "if __name__ ==\"__main__\":\n",
    "    main()"
   ]
  },
  {
   "cell_type": "markdown",
   "metadata": {},
   "source": [
    "### Draw Circle"
   ]
  },
  {
   "cell_type": "code",
   "execution_count": 6,
   "metadata": {},
   "outputs": [
    {
     "name": "stdout",
     "output_type": "stream",
     "text": [
      "width: 960, height:960\n"
     ]
    }
   ],
   "source": [
    "def BresenhamCircle(xc,yc,r, colour):\n",
    "    x=0\n",
    "    y=r\n",
    "    d=3-2*r  #d=d0 initially\n",
    "\n",
    "    while x<=y:\n",
    "        setpixel(xc+x, yc+y, colour)\n",
    "        reflectpoints(xc+x, yc+y, colour)\n",
    "        \n",
    "        if d <0:\n",
    "            d=d+ 4*x  +6\n",
    "        else:\n",
    "            d=d+ 4*(x-y) +10\n",
    "            y=y-1\n",
    "\n",
    "        x=x+1\n",
    "\n",
    "\n",
    "def main():\n",
    "    if not glfw.init():\n",
    "        raise Exception(\"glfw nt initialized\")\n",
    "\n",
    "    window=glfw.create_window(480,480, \"Midpoint Circle Algorithm\",None,None)\n",
    "\n",
    "    if not window:\n",
    "        glfw.terminate()\n",
    "        raise Exception(\"glfw window not created\")\n",
    "\n",
    "    w,h = glfw.get_framebuffer_size(window)\n",
    "    print(\"width: {}, height:{}\".format(w,h))\n",
    "\n",
    "    glfw.set_window_pos(window, 400,200)\n",
    "\n",
    "    glfw.make_context_current(window)\n",
    "    glfw.set_key_callback(window, key_callback)\n",
    "\n",
    "    glfw.set_window_size_callback(window, reshape_callback)\n",
    "\n",
    "    gluOrtho2D(-200.0, 200.0,-200.0,200.0)\n",
    "    setpixel(0,0,[1,0,1])\n",
    "\n",
    "    while not glfw.window_should_close(window):\n",
    "\n",
    "        glClear(GL_COLOR_BUFFER_BIT)\n",
    "        #glClearColor(0.0,0.76,0.56,1.0)\n",
    "        glClearColor(1,1,1,1.0)\n",
    "        setpixel((0), (0), [1,0,0])\n",
    "\n",
    "        BresenhamCircle(0,0,150, [1,0,1])\n",
    "        glfw.swap_buffers(window)\n",
    "        glfw.poll_events()\n",
    "\n",
    "    glfw.terminate()\n",
    "\n",
    "if __name__ ==\"__main__\":\n",
    "    main()"
   ]
  },
  {
   "cell_type": "markdown",
   "metadata": {},
   "source": [
    "## Midpoint Algorithm"
   ]
  },
  {
   "cell_type": "markdown",
   "metadata": {},
   "source": [
    "### Draw Line"
   ]
  },
  {
   "cell_type": "code",
   "execution_count": 7,
   "metadata": {},
   "outputs": [
    {
     "name": "stdout",
     "output_type": "stream",
     "text": [
      "width: 1280, height:960\n"
     ]
    }
   ],
   "source": [
    "def MidpointLine(x1,y1,x2,y2, colour):\n",
    "    dx = x2 - x1\n",
    "    dy = y2 - y1\n",
    "\n",
    "    d = dy - (dx/2)\n",
    "    x = x1\n",
    "    y = y1\n",
    "\n",
    "    while(x<x2):\n",
    "        x = x+1\n",
    "        if(d<0):\n",
    "            d = dy\n",
    "        else:\n",
    "            d = d + (dy-dx)\n",
    "            y = y + 1\n",
    "        \n",
    "        setpixel((x), (y), colour)\n",
    "\n",
    "\n",
    "def main():\n",
    "    if not glfw.init():\n",
    "        raise Exception(\"glfw nt initialized\")\n",
    "\n",
    "    window=glfw.create_window(640,480, \"Midpoit Line Algorithm\",None,None)\n",
    "\n",
    "    if not window:\n",
    "        glfw.terminate()\n",
    "        raise Exception(\"glfw window not created\")\n",
    "\n",
    "    w,h = glfw.get_framebuffer_size(window)\n",
    "    print(\"width: {}, height:{}\".format(w,h))\n",
    "\n",
    "    glfw.set_window_pos(window, 400,200)\n",
    "\n",
    "    glfw.make_context_current(window)\n",
    "    glfw.set_key_callback(window, key_callback)\n",
    "\n",
    "    glfw.set_window_size_callback(window, reshape_callback)\n",
    "\n",
    "    gluOrtho2D(-200.0, 200.0,-200.0,200.0)\n",
    "    setpixel(0,0,[1,0,1])\n",
    "\n",
    "    while not glfw.window_should_close(window):\n",
    "\n",
    "        glClear(GL_COLOR_BUFFER_BIT)\n",
    "        #glClearColor(0.0,0.76,0.56,1.0)\n",
    "        glClearColor(1,1,1,1.0)\n",
    "\n",
    "        MidpointLine(-150,150,150,-150,[0,0,1])#L5  blue\n",
    "        \n",
    "\n",
    "        glfw.swap_buffers(window)\n",
    "        glfw.poll_events()\n",
    "\n",
    "    glfw.terminate()\n",
    "\n",
    "if __name__ ==\"__main__\":\n",
    "    main()"
   ]
  },
  {
   "cell_type": "markdown",
   "metadata": {},
   "source": [
    "### Draw Circle"
   ]
  },
  {
   "cell_type": "code",
   "execution_count": 8,
   "metadata": {},
   "outputs": [
    {
     "name": "stdout",
     "output_type": "stream",
     "text": [
      "width: 960, height:960\n"
     ]
    }
   ],
   "source": [
    "def MidpointCircle(xc,yc,r, colour):\n",
    "    x=0\n",
    "    y=r\n",
    "    d=1-r  #d=d0 initially\n",
    "\n",
    "    while x<=y:\n",
    "        setpixel(xc+x, yc+y, colour)\n",
    "        reflectpoints(xc+x, yc+y, colour)\n",
    "        \n",
    "        if d <0:\n",
    "            d=d+ 2*x  +3\n",
    "        else:\n",
    "            d=d+ 2*(x-y) +5\n",
    "            y=y-1\n",
    "\n",
    "        x=x+1\n",
    "\n",
    "\n",
    "def main():\n",
    "    if not glfw.init():\n",
    "        raise Exception(\"glfw nt initialized\")\n",
    "\n",
    "    window=glfw.create_window(480,480, \"Midpoint Circle Algorithm\",None,None)\n",
    "\n",
    "    if not window:\n",
    "        glfw.terminate()\n",
    "        raise Exception(\"glfw window not created\")\n",
    "\n",
    "    w,h = glfw.get_framebuffer_size(window)\n",
    "    print(\"width: {}, height:{}\".format(w,h))\n",
    "\n",
    "    glfw.set_window_pos(window, 400,200)\n",
    "\n",
    "    glfw.make_context_current(window)\n",
    "    glfw.set_key_callback(window, key_callback)\n",
    "\n",
    "    glfw.set_window_size_callback(window, reshape_callback)\n",
    "\n",
    "    gluOrtho2D(-200.0, 200.0,-200.0,200.0)\n",
    "    setpixel(0,0,[1,0,1])\n",
    "\n",
    "    while not glfw.window_should_close(window):\n",
    "\n",
    "        glClear(GL_COLOR_BUFFER_BIT)\n",
    "        #glClearColor(0.0,0.76,0.56,1.0)\n",
    "        glClearColor(1,1,1,1.0)\n",
    "        setpixel((0), (0), [1,0,0])\n",
    "\n",
    "        MidpointCircle(0,0,150, [1,0,1])\n",
    "        glfw.swap_buffers(window)\n",
    "        glfw.poll_events()\n",
    "\n",
    "    glfw.terminate()\n",
    "\n",
    "if __name__ ==\"__main__\":\n",
    "    main()"
   ]
  }
 ],
 "metadata": {
  "kernelspec": {
   "display_name": "Python 3.9.6 64-bit",
   "language": "python",
   "name": "python3"
  },
  "language_info": {
   "codemirror_mode": {
    "name": "ipython",
    "version": 3
   },
   "file_extension": ".py",
   "mimetype": "text/x-python",
   "name": "python",
   "nbconvert_exporter": "python",
   "pygments_lexer": "ipython3",
   "version": "3.9.6"
  },
  "vscode": {
   "interpreter": {
    "hash": "31f2aee4e71d21fbe5cf8b01ff0e069b9275f58929596ceb00d14d90e3e16cd6"
   }
  }
 },
 "nbformat": 4,
 "nbformat_minor": 2
}
