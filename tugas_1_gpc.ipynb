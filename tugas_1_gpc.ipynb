{
 "cells": [
  {
   "cell_type": "markdown",
   "metadata": {},
   "source": [
    "# Tugas 1 Grafika Pengolahan Citra"
   ]
  },
  {
   "cell_type": "code",
   "execution_count": 1,
   "metadata": {},
   "outputs": [
    {
     "name": "stdout",
     "output_type": "stream",
     "text": [
      "^C\n",
      "Note: you may need to restart the kernel to use updated packages.\n",
      "Requirement already satisfied: glfw in c:\\users\\msi gf63 9rcx\\appdata\\local\\programs\\python\\python310\\lib\\site-packages (2.5.5)\n"
     ]
    },
    {
     "name": "stderr",
     "output_type": "stream",
     "text": [
      "\n",
      "[notice] A new release of pip available: 22.2.2 -> 22.3\n",
      "[notice] To update, run: python.exe -m pip install --upgrade pip\n"
     ]
    },
    {
     "name": "stdout",
     "output_type": "stream",
     "text": [
      "Note: you may need to restart the kernel to use updated packages.\n"
     ]
    },
    {
     "name": "stderr",
     "output_type": "stream",
     "text": [
      "ERROR: Could not find a version that satisfies the requirement OpenGL (from versions: none)\n",
      "ERROR: No matching distribution found for OpenGL\n",
      "\n",
      "[notice] A new release of pip available: 22.2.2 -> 22.3\n",
      "[notice] To update, run: python.exe -m pip install --upgrade pip\n"
     ]
    },
    {
     "name": "stdout",
     "output_type": "stream",
     "text": [
      "Requirement already satisfied: numpy in c:\\users\\msi gf63 9rcx\\appdata\\local\\programs\\python\\python310\\lib\\site-packages (1.23.4)\n",
      "Note: you may need to restart the kernel to use updated packages.\n"
     ]
    },
    {
     "name": "stderr",
     "output_type": "stream",
     "text": [
      "\n",
      "[notice] A new release of pip available: 22.2.2 -> 22.3\n",
      "[notice] To update, run: python.exe -m pip install --upgrade pip\n"
     ]
    }
   ],
   "source": [
    "## Install Dependencies\n",
    "%pip install glfw\n",
    "%pip install OpenGL\n",
    "%pip install numpy"
   ]
  },
  {
   "cell_type": "code",
   "execution_count": 3,
   "metadata": {},
   "outputs": [],
   "source": [
    "from __future__ import division\n",
    "from __future__ import print_function\n",
    "\n",
    "import glfw\n",
    "from OpenGL.GL import *\n",
    "from OpenGL.GLU import *\n",
    "import numpy as np\n",
    "from math import floor"
   ]
  },
  {
   "cell_type": "code",
   "execution_count": 4,
   "metadata": {},
   "outputs": [],
   "source": [
    "## call back key function\n",
    "def key_callback(window, key, scancode, action, mode):\n",
    "    if key == glfw.KEY_ESCAPE and action == glfw.PRESS:\n",
    "        print(\"closed window for pressing Escape key\")\n",
    "        glfw.set_window_should_close(window, True)\n",
    "\n",
    "## reshape function\n",
    "def reshape_callback(window, width, height):\n",
    "    glViewport(0,0,width, height)\n",
    "\n",
    "## setPixel function\n",
    "def setpixel(x,y,color):\n",
    "    glColor3fv(color)\n",
    "    glBegin(GL_POINTS)\n",
    "    glVertex2f(x,y)\n",
    "    glEnd()\n",
    "\n",
    "## reflect points function\n",
    "def reflectpoints(x,y,colour):\n",
    "    setpixel((x), (-y), colour)\n",
    "    setpixel((-x), (y), colour)\n",
    "    setpixel((-x), (-y), colour)\n",
    "    setpixel((-y), (-x), colour)\n",
    "    setpixel((y), (-x), colour)\n",
    "    setpixel((y), (x), colour)\n",
    "    setpixel((-y), (x), colour)"
   ]
  },
  {
   "cell_type": "markdown",
   "metadata": {},
   "source": [
    "## Bressenham Algorithm"
   ]
  },
  {
   "cell_type": "markdown",
   "metadata": {},
   "source": [
    "### Draw Line"
   ]
  },
  {
   "cell_type": "code",
   "execution_count": 5,
   "metadata": {
    "tags": []
   },
   "outputs": [
    {
     "name": "stdout",
     "output_type": "stream",
     "text": [
      "width: 640, height:480\n"
     ]
    }
   ],
   "source": [
    "def BresenhamLine(x1,y1,x2,y2, colour):\n",
    "    x=x1\n",
    "    y=y1\n",
    "    dx=(x2-x1)\n",
    "    dy=(y2-y1)\n",
    "    dt= 2*(dy-dx)\n",
    "    ds=2*dy\n",
    "\n",
    "    d=2*dy  - dx  #d=d0 initially\n",
    "    setpixel((x), (y), [0,0,0])\n",
    "\n",
    "    while x<x2:\n",
    "        x=x+1\n",
    "        if d <0:\n",
    "            d=d+ds\n",
    "        else:\n",
    "            y=y+1\n",
    "            d=d+dt\n",
    "\n",
    "        setpixel((x), (y), colour)\n",
    "\n",
    "\n",
    "def main():\n",
    "    if not glfw.init():\n",
    "        raise Exception(\"glfw nt initialized\")\n",
    "\n",
    "    window=glfw.create_window(640,480, \"DDA Line Drawing\",None,None)\n",
    "\n",
    "    if not window:\n",
    "        glfw.terminate()\n",
    "        raise Exception(\"glfw window not created\")\n",
    "\n",
    "    w,h = glfw.get_framebuffer_size(window)\n",
    "    print(\"width: {}, height:{}\".format(w,h))\n",
    "\n",
    "    glfw.set_window_pos(window, 400,200)\n",
    "\n",
    "    glfw.make_context_current(window)\n",
    "    glfw.set_key_callback(window, key_callback)\n",
    "\n",
    "    glfw.set_window_size_callback(window, reshape_callback)\n",
    "\n",
    "    gluOrtho2D(-200.0, 200.0,-200.0,200.0)\n",
    "    setpixel(0,0,[1,0,1])\n",
    "\n",
    "    while not glfw.window_should_close(window):\n",
    "\n",
    "        glClear(GL_COLOR_BUFFER_BIT)\n",
    "        #glClearColor(0.0,0.76,0.56,1.0)\n",
    "        glClearColor(1,1,1,1.0)\n",
    "\n",
    "        BresenhamLine(-150,150,150,-150,[0,0,1])#L5  blue\n",
    "        \n",
    "\n",
    "        glfw.swap_buffers(window)\n",
    "        glfw.poll_events()\n",
    "\n",
    "    glfw.terminate()\n",
    "\n",
    "if __name__ ==\"__main__\":\n",
    "    main()"
   ]
  },
  {
   "cell_type": "markdown",
   "metadata": {},
   "source": [
    "### Draw Circle"
   ]
  },
  {
   "cell_type": "code",
   "execution_count": 9,
   "metadata": {},
   "outputs": [
    {
     "name": "stdout",
     "output_type": "stream",
     "text": [
      "width: 480, height:480\n"
     ]
    }
   ],
   "source": [
    "def BresenhamCircle(xc,yc,r, colour):\n",
    "    x=0\n",
    "    y=r\n",
    "    d=3-2*r  #d=d0 initially\n",
    "\n",
    "    while x<=y:\n",
    "        setpixel(xc+x, yc+y, colour)\n",
    "        reflectpoints(xc+x, yc+y, colour)\n",
    "        \n",
    "        if d <0:\n",
    "            d=d+ 4*x  +6\n",
    "        else:\n",
    "            d=d+ 4*(x-y) +10\n",
    "            y=y-1\n",
    "\n",
    "        x=x+1\n",
    "\n",
    "\n",
    "def main():\n",
    "    if not glfw.init():\n",
    "        raise Exception(\"glfw nt initialized\")\n",
    "\n",
    "    window=glfw.create_window(480,480, \"Midpoint Circle Algorithm\",None,None)\n",
    "\n",
    "    if not window:\n",
    "        glfw.terminate()\n",
    "        raise Exception(\"glfw window not created\")\n",
    "\n",
    "    w,h = glfw.get_framebuffer_size(window)\n",
    "    print(\"width: {}, height:{}\".format(w,h))\n",
    "\n",
    "    glfw.set_window_pos(window, 400,200)\n",
    "\n",
    "    glfw.make_context_current(window)\n",
    "    glfw.set_key_callback(window, key_callback)\n",
    "\n",
    "    glfw.set_window_size_callback(window, reshape_callback)\n",
    "\n",
    "    gluOrtho2D(-200.0, 200.0,-200.0,200.0)\n",
    "    setpixel(0,0,[1,0,1])\n",
    "\n",
    "    while not glfw.window_should_close(window):\n",
    "\n",
    "        glClear(GL_COLOR_BUFFER_BIT)\n",
    "        #glClearColor(0.0,0.76,0.56,1.0)\n",
    "        glClearColor(1,1,1,1.0)\n",
    "        setpixel((0), (0), [1,0,0])\n",
    "\n",
    "        BresenhamCircle(0,0,150, [1,0,1])\n",
    "        glfw.swap_buffers(window)\n",
    "        glfw.poll_events()\n",
    "\n",
    "    glfw.terminate()\n",
    "\n",
    "if __name__ ==\"__main__\":\n",
    "    main()"
   ]
  },
  {
   "cell_type": "markdown",
   "metadata": {},
   "source": [
    "## Midpoint Algorithm"
   ]
  },
  {
   "cell_type": "markdown",
   "metadata": {},
   "source": [
    "### Draw Line"
   ]
  },
  {
   "cell_type": "code",
   "execution_count": null,
   "metadata": {},
   "outputs": [],
   "source": []
  },
  {
   "cell_type": "markdown",
   "metadata": {},
   "source": [
    "### Draw Circle"
   ]
  },
  {
   "cell_type": "code",
   "execution_count": 10,
   "metadata": {},
   "outputs": [
    {
     "name": "stdout",
     "output_type": "stream",
     "text": [
      "width: 480, height:480\n"
     ]
    }
   ],
   "source": [
    "def MidpointCircle(xc,yc,r, colour):\n",
    "    x=0\n",
    "    y=r\n",
    "    d=1-r  #d=d0 initially\n",
    "\n",
    "    while x<=y:\n",
    "        setpixel(xc+x, yc+y, colour)\n",
    "        reflectpoints(xc+x, yc+y, colour)\n",
    "        \n",
    "        if d <0:\n",
    "            d=d+ 2*x  +3\n",
    "        else:\n",
    "            d=d+ 2*(x-y) +5\n",
    "            y=y-1\n",
    "\n",
    "        x=x+1\n",
    "\n",
    "\n",
    "def main():\n",
    "    if not glfw.init():\n",
    "        raise Exception(\"glfw nt initialized\")\n",
    "\n",
    "    window=glfw.create_window(480,480, \"Midpoint Circle Algorithm\",None,None)\n",
    "\n",
    "    if not window:\n",
    "        glfw.terminate()\n",
    "        raise Exception(\"glfw window not created\")\n",
    "\n",
    "    w,h = glfw.get_framebuffer_size(window)\n",
    "    print(\"width: {}, height:{}\".format(w,h))\n",
    "\n",
    "    glfw.set_window_pos(window, 400,200)\n",
    "\n",
    "    glfw.make_context_current(window)\n",
    "    glfw.set_key_callback(window, key_callback)\n",
    "\n",
    "    glfw.set_window_size_callback(window, reshape_callback)\n",
    "\n",
    "    gluOrtho2D(-200.0, 200.0,-200.0,200.0)\n",
    "    setpixel(0,0,[1,0,1])\n",
    "\n",
    "    while not glfw.window_should_close(window):\n",
    "\n",
    "        glClear(GL_COLOR_BUFFER_BIT)\n",
    "        #glClearColor(0.0,0.76,0.56,1.0)\n",
    "        glClearColor(1,1,1,1.0)\n",
    "        setpixel((0), (0), [1,0,0])\n",
    "\n",
    "        MidpointCircle(0,0,150, [1,0,1])\n",
    "        glfw.swap_buffers(window)\n",
    "        glfw.poll_events()\n",
    "\n",
    "    glfw.terminate()\n",
    "\n",
    "if __name__ ==\"__main__\":\n",
    "    main()"
   ]
  }
 ],
 "metadata": {
  "kernelspec": {
   "display_name": "Python 3.10.8 64-bit",
   "language": "python",
   "name": "python3"
  },
  "language_info": {
   "codemirror_mode": {
    "name": "ipython",
    "version": 3
   },
   "file_extension": ".py",
   "mimetype": "text/x-python",
   "name": "python",
   "nbconvert_exporter": "python",
   "pygments_lexer": "ipython3",
   "version": "3.10.8"
  },
  "orig_nbformat": 4,
  "vscode": {
   "interpreter": {
    "hash": "0e82b4a81f812e3a4f9f87efc9b5f6e253fcf581c88f7f0d71f80b14e08e9d3b"
   }
  }
 },
 "nbformat": 4,
 "nbformat_minor": 2
}
