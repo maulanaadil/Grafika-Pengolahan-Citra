{
 "cells": [
  {
   "cell_type": "markdown",
   "metadata": {},
   "source": [
    "# Tugas 1 Grafika Pengolahan Citra"
   ]
  },
  {
   "cell_type": "code",
   "execution_count": 16,
   "metadata": {},
   "outputs": [],
   "source": [
    "from __future__ import division\n",
    "from __future__ import print_function\n",
    "\n",
    "import glfw\n",
    "from OpenGL.GL import *\n",
    "from OpenGL.GLU import *\n",
    "import numpy as np\n",
    "from math import floor"
   ]
  },
  {
   "cell_type": "code",
   "execution_count": 17,
   "metadata": {},
   "outputs": [],
   "source": [
    "## call back key function\n",
    "def key_callback(window, key, scancode, action, mode):\n",
    "    if key == glfw.KEY_ESCAPE and action == glfw.PRESS:\n",
    "        print(\"closed window for pressing Escape key\")\n",
    "        glfw.set_window_should_close(window, True)\n",
    "\n",
    "## reshape function\n",
    "def reshape_callback(window, width, height):\n",
    "    glViewport(0,0,width, height)\n",
    "\n",
    "## setPixel function\n",
    "def setpixel(x,y,color):\n",
    "    glColor3fv(color)\n",
    "    glBegin(GL_POINTS)\n",
    "    glVertex2f(x,y)\n",
    "    glEnd()\n",
    "\n",
    "## reflect points function\n",
    "def reflectpoints(x,y,colour):\n",
    "    setpixel((x), (-y), colour)\n",
    "    setpixel((-x), (y), colour)\n",
    "    setpixel((-x), (-y), colour)\n",
    "    setpixel((-y), (-x), colour)\n",
    "    setpixel((y), (-x), colour)\n",
    "    setpixel((y), (x), colour)\n",
    "    setpixel((-y), (x), colour)"
   ]
  },
  {
   "cell_type": "markdown",
   "metadata": {},
   "source": [
    "## Bressenham Algorithm"
   ]
  },
  {
   "cell_type": "markdown",
   "metadata": {},
   "source": [
    "### Draw Line"
   ]
  },
  {
   "cell_type": "code",
   "execution_count": 18,
   "metadata": {
    "tags": []
   },
   "outputs": [
    {
     "name": "stdout",
     "output_type": "stream",
     "text": [
      "width: 640, height:480\n"
     ]
    }
   ],
   "source": [
    "def BresenhamLine(x1,y1,x2,y2, colour):\n",
    "    x=x1\n",
    "    y=y1\n",
    "    dx=(x2-x1)\n",
    "    dy=(y2-y1)\n",
    "    dt= 2*(dy-dx)\n",
    "    ds=2*dy\n",
    "\n",
    "    d=2*dy  - dx  #d=d0 initially\n",
    "    setpixel((x), (y), [0,0,0])\n",
    "\n",
    "    while x<x2:\n",
    "        x=x+1\n",
    "        if d <0:\n",
    "            d=d+ds\n",
    "        else:\n",
    "            y=y+1\n",
    "            d=d+dt\n",
    "\n",
    "        setpixel((x), (y), colour)\n",
    "\n",
    "\n",
    "def main():\n",
    "    if not glfw.init():\n",
    "        raise Exception(\"glfw nt initialized\")\n",
    "\n",
    "    window=glfw.create_window(640,480, \"DDA Line Drawing\",None,None)\n",
    "\n",
    "    if not window:\n",
    "        glfw.terminate()\n",
    "        raise Exception(\"glfw window not created\")\n",
    "\n",
    "    w,h = glfw.get_framebuffer_size(window)\n",
    "    print(\"width: {}, height:{}\".format(w,h))\n",
    "\n",
    "    glfw.set_window_pos(window, 400,200)\n",
    "\n",
    "    glfw.make_context_current(window)\n",
    "    glfw.set_key_callback(window, key_callback)\n",
    "\n",
    "    glfw.set_window_size_callback(window, reshape_callback)\n",
    "\n",
    "    gluOrtho2D(-200.0, 200.0,-200.0,200.0)\n",
    "    setpixel(0,0,[1,0,1])\n",
    "\n",
    "    while not glfw.window_should_close(window):\n",
    "\n",
    "        glClear(GL_COLOR_BUFFER_BIT)\n",
    "        #glClearColor(0.0,0.76,0.56,1.0)\n",
    "        glClearColor(1,1,1,1.0)\n",
    "\n",
    "        BresenhamLine(-150,150,150,-150,[0,0,1])#L5  blue\n",
    "        \n",
    "\n",
    "        glfw.swap_buffers(window)\n",
    "        glfw.poll_events()\n",
    "\n",
    "    glfw.terminate()\n",
    "\n",
    "if __name__ ==\"__main__\":\n",
    "    main()"
   ]
  },
  {
   "cell_type": "markdown",
   "metadata": {},
   "source": [
    "### Draw Circle"
   ]
  },
  {
   "cell_type": "code",
   "execution_count": 19,
   "metadata": {},
   "outputs": [
    {
     "name": "stdout",
     "output_type": "stream",
     "text": [
      "width: 480, height:480\n"
     ]
    }
   ],
   "source": [
    "def BresenhamCircle(xc,yc,r, colour):\n",
    "    x=0\n",
    "    y=r\n",
    "    d=3-2*r  #d=d0 initially\n",
    "\n",
    "    while x<=y:\n",
    "        setpixel(xc+x, yc+y, colour)\n",
    "        reflectpoints(xc+x, yc+y, colour)\n",
    "        \n",
    "        if d <0:\n",
    "            d=d+ 4*x  +6\n",
    "        else:\n",
    "            d=d+ 4*(x-y) +10\n",
    "            y=y-1\n",
    "\n",
    "        x=x+1\n",
    "\n",
    "\n",
    "def main():\n",
    "    if not glfw.init():\n",
    "        raise Exception(\"glfw nt initialized\")\n",
    "\n",
    "    window=glfw.create_window(480,480, \"Midpoint Circle Algorithm\",None,None)\n",
    "\n",
    "    if not window:\n",
    "        glfw.terminate()\n",
    "        raise Exception(\"glfw window not created\")\n",
    "\n",
    "    w,h = glfw.get_framebuffer_size(window)\n",
    "    print(\"width: {}, height:{}\".format(w,h))\n",
    "\n",
    "    glfw.set_window_pos(window, 400,200)\n",
    "\n",
    "    glfw.make_context_current(window)\n",
    "    glfw.set_key_callback(window, key_callback)\n",
    "\n",
    "    glfw.set_window_size_callback(window, reshape_callback)\n",
    "\n",
    "    gluOrtho2D(-200.0, 200.0,-200.0,200.0)\n",
    "    setpixel(0,0,[1,0,1])\n",
    "\n",
    "    while not glfw.window_should_close(window):\n",
    "\n",
    "        glClear(GL_COLOR_BUFFER_BIT)\n",
    "        #glClearColor(0.0,0.76,0.56,1.0)\n",
    "        glClearColor(1,1,1,1.0)\n",
    "        setpixel((0), (0), [1,0,0])\n",
    "\n",
    "        BresenhamCircle(0,0,150, [1,0,1])\n",
    "        glfw.swap_buffers(window)\n",
    "        glfw.poll_events()\n",
    "\n",
    "    glfw.terminate()\n",
    "\n",
    "if __name__ ==\"__main__\":\n",
    "    main()"
   ]
  },
  {
   "cell_type": "markdown",
   "metadata": {},
   "source": [
    "## Midpoint Algorithm"
   ]
  },
  {
   "cell_type": "markdown",
   "metadata": {},
   "source": [
    "### Draw Line"
   ]
  },
  {
   "cell_type": "code",
   "execution_count": 22,
   "metadata": {},
   "outputs": [
    {
     "name": "stdout",
     "output_type": "stream",
     "text": [
      "width: 640, height:480\n"
     ]
    }
   ],
   "source": [
    "def MidpointLine(x1,y1,x2,y2, colour):\n",
    "    dx = x2 - x1\n",
    "    dy = y2 - y1\n",
    "\n",
    "    d = dy - (dx/2)\n",
    "    x = x1\n",
    "    y = y1\n",
    "\n",
    "    while(x<x2):\n",
    "        x = x+1\n",
    "        if(d<0):\n",
    "            d = dy\n",
    "        else:\n",
    "            d = d + (dy-dx)\n",
    "            y = y + 1\n",
    "        \n",
    "        setpixel((x), (y), colour)\n",
    "\n",
    "\n",
    "def main():\n",
    "    if not glfw.init():\n",
    "        raise Exception(\"glfw nt initialized\")\n",
    "\n",
    "    window=glfw.create_window(640,480, \"Midpoit Line Algorithm\",None,None)\n",
    "\n",
    "    if not window:\n",
    "        glfw.terminate()\n",
    "        raise Exception(\"glfw window not created\")\n",
    "\n",
    "    w,h = glfw.get_framebuffer_size(window)\n",
    "    print(\"width: {}, height:{}\".format(w,h))\n",
    "\n",
    "    glfw.set_window_pos(window, 400,200)\n",
    "\n",
    "    glfw.make_context_current(window)\n",
    "    glfw.set_key_callback(window, key_callback)\n",
    "\n",
    "    glfw.set_window_size_callback(window, reshape_callback)\n",
    "\n",
    "    gluOrtho2D(-200.0, 200.0,-200.0,200.0)\n",
    "    setpixel(0,0,[1,0,1])\n",
    "\n",
    "    while not glfw.window_should_close(window):\n",
    "\n",
    "        glClear(GL_COLOR_BUFFER_BIT)\n",
    "        #glClearColor(0.0,0.76,0.56,1.0)\n",
    "        glClearColor(1,1,1,1.0)\n",
    "\n",
    "        MidpointLine(-150,150,150,-150,[0,0,1])#L5  blue\n",
    "        \n",
    "\n",
    "        glfw.swap_buffers(window)\n",
    "        glfw.poll_events()\n",
    "\n",
    "    glfw.terminate()\n",
    "\n",
    "if __name__ ==\"__main__\":\n",
    "    main()"
   ]
  },
  {
   "cell_type": "markdown",
   "metadata": {},
   "source": [
    "### Draw Circle"
   ]
  },
  {
   "cell_type": "code",
   "execution_count": 2,
   "metadata": {},
   "outputs": [
    {
     "ename": "NameError",
     "evalue": "name 'glfw' is not defined",
     "output_type": "error",
     "traceback": [
      "\u001b[1;31m---------------------------------------------------------------------------\u001b[0m",
      "\u001b[1;31mNameError\u001b[0m                                 Traceback (most recent call last)",
      "Cell \u001b[1;32mIn [2], line 56\u001b[0m\n\u001b[0;32m     53\u001b[0m     glfw\u001b[39m.\u001b[39mterminate()\n\u001b[0;32m     55\u001b[0m \u001b[39mif\u001b[39;00m \u001b[39m__name__\u001b[39m \u001b[39m==\u001b[39m\u001b[39m\"\u001b[39m\u001b[39m__main__\u001b[39m\u001b[39m\"\u001b[39m:\n\u001b[1;32m---> 56\u001b[0m     main()\n",
      "Cell \u001b[1;32mIn [2], line 20\u001b[0m, in \u001b[0;36mmain\u001b[1;34m()\u001b[0m\n\u001b[0;32m     19\u001b[0m \u001b[39mdef\u001b[39;00m \u001b[39mmain\u001b[39m():\n\u001b[1;32m---> 20\u001b[0m     \u001b[39mif\u001b[39;00m \u001b[39mnot\u001b[39;00m glfw\u001b[39m.\u001b[39minit():\n\u001b[0;32m     21\u001b[0m         \u001b[39mraise\u001b[39;00m \u001b[39mException\u001b[39;00m(\u001b[39m\"\u001b[39m\u001b[39mglfw nt initialized\u001b[39m\u001b[39m\"\u001b[39m)\n\u001b[0;32m     23\u001b[0m     window\u001b[39m=\u001b[39mglfw\u001b[39m.\u001b[39mcreate_window(\u001b[39m480\u001b[39m,\u001b[39m480\u001b[39m, \u001b[39m\"\u001b[39m\u001b[39mMidpoint Circle Algorithm\u001b[39m\u001b[39m\"\u001b[39m,\u001b[39mNone\u001b[39;00m,\u001b[39mNone\u001b[39;00m)\n",
      "\u001b[1;31mNameError\u001b[0m: name 'glfw' is not defined"
     ]
    }
   ],
   "source": [
    "def MidpointCircle(xc,yc,r, colour):\n",
    "    x=0\n",
    "    y=r\n",
    "    d=1-r  #d=d0 initially\n",
    "\n",
    "    while x<=y:\n",
    "        setpixel(xc+x, yc+y, colour)\n",
    "        reflectpoints(xc+x, yc+y, colour)\n",
    "        \n",
    "        if d <0:\n",
    "            d=d+ 2*x  +3\n",
    "        else:\n",
    "            d=d+ 2*(x-y) +5\n",
    "            y=y-1\n",
    "\n",
    "        x=x+1\n",
    "\n",
    "\n",
    "def main():\n",
    "    if not glfw.init():\n",
    "        raise Exception(\"glfw nt initialized\")\n",
    "\n",
    "    window=glfw.create_window(480,480, \"Midpoint Circle Algorithm\",None,None)\n",
    "\n",
    "    if not window:\n",
    "        glfw.terminate()\n",
    "        raise Exception(\"glfw window not created\")\n",
    "\n",
    "    w,h = glfw.get_framebuffer_size(window)\n",
    "    print(\"width: {}, height:{}\".format(w,h))\n",
    "\n",
    "    glfw.set_window_pos(window, 400,200)\n",
    "\n",
    "    glfw.make_context_current(window)\n",
    "    glfw.set_key_callback(window, key_callback)\n",
    "\n",
    "    glfw.set_window_size_callback(window, reshape_callback)\n",
    "\n",
    "    gluOrtho2D(-200.0, 200.0,-200.0,200.0)\n",
    "    setpixel(0,0,[1,0,1])\n",
    "\n",
    "    while not glfw.window_should_close(window):\n",
    "\n",
    "        glClear(GL_COLOR_BUFFER_BIT)\n",
    "        #glClearColor(0.0,0.76,0.56,1.0)\n",
    "        glClearColor(1,1,1,1.0)\n",
    "        setpixel((0), (0), [1,0,0])\n",
    "\n",
    "        MidpointCircle(0,0,150, [1,0,1])\n",
    "        glfw.swap_buffers(window)\n",
    "        glfw.poll_events()\n",
    "\n",
    "    glfw.terminate()\n",
    "\n",
    "if __name__ ==\"__main__\":\n",
    "    main()"
   ]
  }
 ],
 "metadata": {
  "kernelspec": {
   "display_name": "Python 3.10.7 64-bit",
   "language": "python",
   "name": "python3"
  },
  "language_info": {
   "codemirror_mode": {
    "name": "ipython",
    "version": 3
   },
   "file_extension": ".py",
   "mimetype": "text/x-python",
   "name": "python",
   "nbconvert_exporter": "python",
   "pygments_lexer": "ipython3",
   "version": "3.10.7"
  },
  "vscode": {
   "interpreter": {
    "hash": "26de051ba29f2982a8de78e945f0abaf191376122a1563185a90213a26c5da77"
   }
  }
 },
 "nbformat": 4,
 "nbformat_minor": 2
}
